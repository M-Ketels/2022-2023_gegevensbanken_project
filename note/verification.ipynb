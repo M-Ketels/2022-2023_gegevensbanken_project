{
 "cells": [
  {
   "cell_type": "markdown",
   "metadata": {},
   "source": [
    "# Verification\n",
    "\n",
    "# Imports"
   ]
  },
  {
   "cell_type": "code",
   "execution_count": 1,
   "metadata": {},
   "outputs": [],
   "source": [
    "# Imports van binnen onze eigen repository\n",
    "import sys\n",
    "from pathlib import Path\n",
    "sys.path.append(str(Path().absolute().parent / \"src\"))\n",
    "\n",
    "from db_project import (\n",
    "    run_external_script,\n",
    "    evaluate_script,\n",
    "    toon_uitleg,\n",
    "    DOC_FPS,\n",
    "    DEMO_Q_PARAMS_FP,\n",
    "    ALL_Q_PARAMS_FP, # NB: Deze file zit uiteraard niet in de repo tot we deze releasen.\n",
    "    DUMMY_SOLUTION_FP,\n",
    "    MODEL_SOLUTION_FP, # NB: Deze file zit uiteraard niet in de repo tot we deze releasen.\n",
    ")\n"
   ]
  },
  {
   "cell_type": "code",
   "execution_count": 2,
   "metadata": {},
   "outputs": [
    {
     "data": {
      "text/markdown": [
       "# 1. Inleiding\n",
       "\n",
       "In deze notebook kan je je oplossing runnen (en, indien modeloplossingen voorhanden, ook evalueren).\n",
       "\n",
       "- Eerst wordt je python script automatisch gerund met verschillende parameters\n",
       "- De resultaten worden opgeslagen in `.csv` files (in de `out` folder)\n",
       "- Die `.csv` files worden vergeleken met de `.csv` files van de oplossing (te vinden in de `solution` folder).\n",
       "- Elke query krijgt een score toegekend. Cf. <https://en.wikipedia.org/wiki/F1_score>.\n",
       "- Een kort rapport wordt weergegeven die je pointers kan geven over wat er mis is met je query. \n",
       "\n",
       "  - TP: True Positives\n",
       "  - TN: True Negatives\n",
       "  - FP: False Positives\n",
       "\n",
       "Na release van de modeloplossingen kan je natuurlijk alles controleren.\n",
       "\n",
       "# 2. Uitvoeren\n",
       "\n",
       "Dit proces bestaat uit 3 stappen.\n",
       "\n",
       "1. Eerst dien je terug verbinding te maken met de gegevensbank.\n",
       "2. Dan dien je de filename van je ingevulde script in te vullen. Je \"ingevulde script\" is het bestand dat **ALLE INGEVULDE FUNCTIES EN NIETS ANDERS** bevat. Hieronder importeren we het script `dummy_solution.py` van in de `scripts` folder.\n",
       "3. Run het script. Dit doen we met behulp van de `run_external_script` functie die we eerder importeerden. (De parameters en de kolomnamen worden automatisch ingelezen uit de `.json` files in de `solution` folder.)\n",
       "\n"
      ],
      "text/plain": [
       "<IPython.core.display.Markdown object>"
      ]
     },
     "metadata": {},
     "output_type": "display_data"
    }
   ],
   "source": [
    "# Tekst en uitleg wordt ingelezen uit bestanden uit de `docs` folder.\n",
    "toon_uitleg(DOC_FPS.get(\"verification\"), sectie=[1,2])"
   ]
  },
  {
   "cell_type": "code",
   "execution_count": 3,
   "metadata": {},
   "outputs": [],
   "source": [
    "import mysql\n",
    "def verbind_met_GB(username, hostname, gegevensbanknaam, password=None, poort=3306):\n",
    "    \"\"\"\n",
    "    Maak verbinding met een externe gegevensbank\n",
    "\n",
    "    Parameters\n",
    "    ----------\n",
    "\n",
    "    username:           str\n",
    "                        Username van de gebruiker\n",
    "    hostname            str\n",
    "                        Naam van de host. In het geval van lokale server 'localhost'\n",
    "    gegevensbanknaam    str\n",
    "                        Naam van de gegevensbank\n",
    "    password            str, None\n",
    "                        Wachtwoord kan al meegegeven worden. Indien niet, wordt\n",
    "                        een wachtwoordveldje gegenereerd waar de gebruiker het\n",
    "                        kan ingeven.\n",
    "    poort               int, defaults to 3306\n",
    "                        poort waarop MySQL luistert. Typisch is dat op poort 3306, \n",
    "                        maar variaties zijn mogelijk.\n",
    "    Returns\n",
    "    -------\n",
    "    connection          connection object\n",
    "                        Dit is het soort object dat wordt teruggeven door\n",
    "                        connect() methods van packages die voldoen aan de DB-API\n",
    "\n",
    "    \"\"\"\n",
    "\n",
    "   #implementeer hier de functie"
   ]
  },
  {
   "cell_type": "code",
   "execution_count": 4,
   "metadata": {},
   "outputs": [],
   "source": [
    "# STAP 01: Verbindingsobject aanmaken\n",
    "\n",
    "username = 'root'      # Vervang dit als je via een andere user queries stuurt\n",
    "hostname = 'localhost' # Als je een databank lokaal draait, is dit localhost.\n",
    "db = 'lahman2016'          # Naam van de gegevensbank op je XAMPP Mysql server\n",
    "\n",
    "# We verbinden met de gegevensbank\n",
    "c = verbind_met_GB(username, hostname, db, password='')"
   ]
  },
  {
   "cell_type": "code",
   "execution_count": 5,
   "metadata": {},
   "outputs": [],
   "source": [
    "# STAP 02: Specifieer filenames van script en parameters\n",
    "\n",
    "parameters_filename = str(DEMO_Q_PARAMS_FP) \n",
    "# parameters_filename = str(ALL_Q_PARAMS_FP) # Na release van modeloplossing: uncomment deze lijn om onze parameters te gebruiken.\n",
    "\n",
    "ingevulde_oplossing_filename = str(DUMMY_SOLUTION_FP)  # VERVANG DIT DOOR JOUW FILENAME ALS JE JE OPLOSSING ZELF WIL VERIFIËREN!\n"
   ]
  },
  {
   "cell_type": "code",
   "execution_count": 6,
   "metadata": {},
   "outputs": [
    {
     "name": "stdout",
     "output_type": "stream",
     "text": [
      "\n",
      "    We gaan dit script runnen:\n",
      "        C:\\Users\\Maxim\\OneDrive\\Documenten\\Studie\\KULAK\\BA Informatica 2022-2023 sem2\\Gegevensbanken\\Project\\2022-2023_gegevensbanken_project\\scripts\\dummy_solution.py\n",
      "    Met deze parameters:\n",
      "        C:\\Users\\Maxim\\OneDrive\\Documenten\\Studie\\KULAK\\BA Informatica 2022-2023 sem2\\Gegevensbanken\\Project\\2022-2023_gegevensbanken_project\\solution\\demo_q_params.json\n",
      "    \n"
     ]
    }
   ],
   "source": [
    "# Enkele checks alvorens over te gaan tot effectief runnen van het script\n",
    "\n",
    "if Path(ingevulde_oplossing_filename).exists() and Path(parameters_filename).exists():\n",
    "    msg = \"\"\"\n",
    "    We gaan dit script runnen:\n",
    "        {}\n",
    "    Met deze parameters:\n",
    "        {}\n",
    "    \"\"\".format(ingevulde_oplossing_filename, parameters_filename)\n",
    "    \n",
    "    print(msg)\n",
    "else:\n",
    "    msg = \"\"\"\n",
    "    Oplossingsfile gevonden: {}\n",
    "    Parametersfile gevonden: {}\n",
    "    \n",
    "    Los dit probleem op indien je je script wil runnen.\n",
    "    \"\"\".format(Path(ingevulde_oplossing_filename).exists(), Path(parameters_filename).exists())\n",
    "    print(msg)\n",
    "    \n",
    "    assert False # STOP HIER."
   ]
  },
  {
   "cell_type": "code",
   "execution_count": 7,
   "metadata": {},
   "outputs": [],
   "source": [
    "# STAP 03: Run je oplossingen\n",
    "run_external_script(ingevulde_oplossing_filename, c, params_fname=parameters_filename)"
   ]
  },
  {
   "cell_type": "code",
   "execution_count": 8,
   "metadata": {},
   "outputs": [
    {
     "data": {
      "text/markdown": [
       "# 3. Evaluatie\n",
       "\n",
       "Het externe script is nu uitgevoerd met de door ons vastgelegde parameters. Op die manier zijn er `.csv` files gemaakt in de `out` directory.\n",
       "\n",
       "Die `.csv` files worden in de volgende stap vergeleken met door ons aangemaakte `.csv` files van de modeloplossingen. Op die manier wordt de score berekend. Bijgevolg kan er enkel een evaluatie plaatsvinden van die queries waar de modeloplossingen van voorhanden zijn.\n",
       "\n",
       "**Opgelet**: Voor een accurate evaluatie mogen er geen resultaten van een vorige run nog aanwezig zijn: anders kan het zijn dat er oude resultaten meegenomen worden in de evaluatie en dat is niet correct! \n",
       "\n"
      ],
      "text/plain": [
       "<IPython.core.display.Markdown object>"
      ]
     },
     "metadata": {},
     "output_type": "display_data"
    }
   ],
   "source": [
    "toon_uitleg(DOC_FPS.get(\"verification\"), sectie=3)"
   ]
  },
  {
   "cell_type": "code",
   "execution_count": 9,
   "metadata": {},
   "outputs": [
    {
     "name": "stdout",
     "output_type": "stream",
     "text": [
      "SOL DIR:  C:\\Users\\Maxim\\OneDrive\\Documenten\\Studie\\KULAK\\BA Informatica 2022-2023 sem2\\Gegevensbanken\\Project\\2022-2023_gegevensbanken_project\\solution\n",
      "RES DIR:  C:\\Users\\Maxim\\OneDrive\\Documenten\\Studie\\KULAK\\BA Informatica 2022-2023 sem2\\Gegevensbanken\\Project\\2022-2023_gegevensbanken_project\\out\\dummy_solution\\results\n",
      "Evaluating query 1\n",
      "None\n"
     ]
    },
    {
     "name": "stderr",
     "output_type": "stream",
     "text": [
      "C:\\Users\\Maxim\\OneDrive\\Documenten\\Studie\\KULAK\\BA Informatica 2022-2023 sem2\\Gegevensbanken\\Project\\2022-2023_gegevensbanken_project\\src\\db_project\\evaluation.py:186: FutureWarning: Using the level keyword in DataFrame and Series aggregations is deprecated and will be removed in a future version. Use groupby instead. df.median(level=1) should use df.groupby(level=1).median().\n",
      "  df_2 = df.max(level=[\"query\", \"parameter\"])\n",
      "C:\\Users\\Maxim\\OneDrive\\Documenten\\Studie\\KULAK\\BA Informatica 2022-2023 sem2\\Gegevensbanken\\Project\\2022-2023_gegevensbanken_project\\src\\db_project\\evaluation.py:189: FutureWarning: Using the level keyword in DataFrame and Series aggregations is deprecated and will be removed in a future version. Use groupby instead. df.median(level=1) should use df.groupby(level=1).median().\n",
      "  df_3 = df_2.mean(level=[\"query\"])\n",
      "C:\\Users\\Maxim\\OneDrive\\Documenten\\Studie\\KULAK\\BA Informatica 2022-2023 sem2\\Gegevensbanken\\Project\\2022-2023_gegevensbanken_project\\src\\db_project\\evaluation.py:193: FutureWarning: The frame.append method is deprecated and will be removed from pandas in a future version. Use pandas.concat instead.\n",
      "  df_red = df_3.append(\n"
     ]
    }
   ],
   "source": [
    "print(evaluate_script(ingevulde_oplossing_filename, params_fname=parameters_filename, demo=True))"
   ]
  },
  {
   "cell_type": "code",
   "execution_count": 10,
   "metadata": {},
   "outputs": [
    {
     "data": {
      "text/markdown": [
       "# 4. Reports\n",
       "\n",
       "Om te kijken wat je score was, cf. de `out` folder:\n",
       "\n",
       "- in `out/reports` vind je gegeneerde reports. \n",
       "\n",
       "  - Het `execution_report` is een log van het uitvoeren van je script.\n",
       "  - Het `evaluation_report` is een kleine samenvatting van je behaalde scores.\n",
       "\n",
       "- in `out/results` vind je de `.csv` files die je queries geproduceerd hebben.\n"
      ],
      "text/plain": [
       "<IPython.core.display.Markdown object>"
      ]
     },
     "metadata": {},
     "output_type": "display_data"
    }
   ],
   "source": [
    "toon_uitleg(DOC_FPS.get(\"verification\"), sectie=4)"
   ]
  },
  {
   "cell_type": "code",
   "execution_count": null,
   "metadata": {},
   "outputs": [],
   "source": []
  },
  {
   "cell_type": "code",
   "execution_count": null,
   "metadata": {},
   "outputs": [],
   "source": []
  }
 ],
 "metadata": {
  "kernelspec": {
   "display_name": "Python 3 (ipykernel)",
   "language": "python",
   "name": "python3"
  },
  "language_info": {
   "codemirror_mode": {
    "name": "ipython",
    "version": 3
   },
   "file_extension": ".py",
   "mimetype": "text/x-python",
   "name": "python",
   "nbconvert_exporter": "python",
   "pygments_lexer": "ipython3",
   "version": "3.9.12"
  },
  "toc": {
   "nav_menu": {},
   "number_sections": true,
   "sideBar": true,
   "skip_h1_title": true,
   "title_cell": "Table of Contents",
   "title_sidebar": "Contents",
   "toc_cell": false,
   "toc_position": {},
   "toc_section_display": true,
   "toc_window_display": true
  },
  "toc-autonumbering": true
 },
 "nbformat": 4,
 "nbformat_minor": 4
}
