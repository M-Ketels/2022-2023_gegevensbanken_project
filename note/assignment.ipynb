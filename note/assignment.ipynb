{
 "cells": [
  {
   "cell_type": "markdown",
   "metadata": {},
   "source": [
    "# PROJECT GEGEVENSBANKEN - SQL"
   ]
  },
  {
   "cell_type": "markdown",
   "metadata": {
    "tags": []
   },
   "source": [
    "# Imports"
   ]
  },
  {
   "cell_type": "code",
   "execution_count": 1,
   "metadata": {},
   "outputs": [],
   "source": [
    "# Setup\n",
    "import sys\n",
    "import getpass  # Package om een paswoordveldje te genereren.\n",
    "import json  # Package om .json files in te laden (bvb kolomnamen zijn zo opgeslagen)\n",
    "import mysql.connector  # MySQL package\n",
    "import pandas as pd  # Populaire package voor data-verwerking\n",
    "\n",
    "from pathlib import Path\n",
    "from inspect import getsource"
   ]
  },
  {
   "cell_type": "code",
   "execution_count": 2,
   "metadata": {},
   "outputs": [],
   "source": [
    "# Imports van binnen onze eigen repository\n",
    "sys.path.append(str(Path().absolute().parent / \"src\"))\n",
    "\n",
    "from db_project import (\n",
    "    res_to_df,\n",
    "    toon_uitleg,\n",
    "    DOC_FPS,\n",
    "    DEMO_Q_PARAMS_FP,\n",
    "    ALL_Q_COLNAM_FP,\n",
    ")\n"
   ]
  },
  {
   "cell_type": "code",
   "execution_count": 3,
   "metadata": {
    "toc-hr-collapsed": false
   },
   "outputs": [
    {
     "data": {
      "text/markdown": [
       "# 1. Inleiding\n",
       "\n",
       "Zie het document `prerequisites.pdf` in de `docs` folder voor installatiehulp van XAMPP etc.\n",
       "\n",
       "## 1.1 Python packages\n",
       "\n",
       "De import statements (cf. boven) vormen de standaardconfiguratie van python-packages die we gebruiken. _Van deze configuratie afwijken is dan ook op eigen risico, gezien dat betekent dat je ook afwijkt van de configuratie van de computer waarop wij jullie oplossingen runnen._\n",
       "   \n",
       "    \n",
       "## 1.2 Kolomnamen en input parameters\n",
       "\n",
       "We leggen op voorhand reeds de **kolomnamen van de oplossingen**, en de **naam en types van de inputparameters** vast. Hier moet je je dus aan houden en mag je dus niks aan wijzigen.\n",
       "\n",
       "- Het aantal kolommen (en hun volgorde) van jullie oplossing en de onze **moeten** exact overeen komen. \n",
       "    - Vandaar dat de kolomnamen hieronder gegeven zijn. \n",
       "    - Dit komt trouwens van pas bij het opstellen van je queries! \n",
       "    - **KOLOMNAMEN NIET GERESPECTEERD OP EEN QUERY BETEKENT 0 PUNTEN OP DIE QUERY**\n",
       "    \n",
       "- Dankzij de voorbeeldparameters, die al gegeven zijn in de functiedefinitie e.g.: `query_42(connection, col_names, super_voorbeeldparam = ['joske', 'jef'])` weten jullie exact welke vorm en type (int, lijst, etc) de inputparameters moeten hebben. \n",
       "    - Wijzig zeker niets aan de naam van die parameters (*super_voorbeeldparam* blijft *super_voorbeeldparam*).\n",
       "    - De default waarden geven informatie over het type van de inputparameters (*super_voorbeeldparam* moet blijkbaar een lijst van strings zijn). \n",
       "    - Let wel: de default waarden zijn _louter ter illustratie, zorg ervoor dat je query ook met andere waarden dan de defaults werkt!_\n",
       "    - **NAAM OF TYPE VAN PARAMETER NIET GERESPECTEERD OP EEN QUERY BETEKENT 0 PUNTEN OP DIE QUERY**\n",
       "\n",
       "**Samengevat: oplossingen die deze vorm niet respecteren, CRASHEN op onze machines en resulteren in een score van 0 op die query.**\n"
      ],
      "text/plain": [
       "<IPython.core.display.Markdown object>"
      ]
     },
     "metadata": {},
     "output_type": "display_data"
    }
   ],
   "source": [
    "# Tekst en uitleg wordt ingelezen uit bestanden uit de `docs` folder.\n",
    "toon_uitleg(DOC_FPS.get(\"intro\"), sectie=[1, 2, 3])"
   ]
  },
  {
   "cell_type": "code",
   "execution_count": 4,
   "metadata": {
    "scrolled": true
   },
   "outputs": [
    {
     "name": "stdout",
     "output_type": "stream",
     "text": [
      "Kolomnamen van query_01: ['last_name', 'first_name', 'height'] \n",
      "\n",
      "Kolomnamen van query_02: ['last_name', 'first_name', 'age', 'country_death'] \n",
      "\n",
      "Kolomnamen van query_03: ['last_name', 'first_name', 'year_of_birth', 'name_of_team', 'year', 'teamWins', 'managerLosses'] \n",
      "\n",
      "Kolomnamen van query_04: ['year', 'group', 'vote_count', 'vote_mean'] \n",
      "\n",
      "Kolomnamen van query_05: ['last_name', 'first_name', 'year_of_birth'] \n",
      "\n",
      "Kolomnamen van query_06: ['last_name', 'first_name', 'year', 'votes'] \n",
      "\n",
      "Kolomnamen van query_07: ['last_name', 'first_name', 'mean_errors'] \n",
      "\n",
      "Kolomnamen van query_08: ['last_name', 'first_name', 'year_count'] \n",
      "\n",
      "Kolomnamen van query_09: ['last_name', 'first_name', 'year_count'] \n",
      "\n",
      "Kolomnamen van query_10: ['last_name', 'first_name'] \n",
      "\n"
     ]
    }
   ],
   "source": [
    "# Lees de dictionairy van kolomnamen in\n",
    "col_names = json.load(open(ALL_Q_COLNAM_FP, \"r\"))\n",
    "\n",
    "# Inspecteer de dictionairy van kolomnamen\n",
    "for k, v in col_names.items():\n",
    "    msg = \"Kolomnamen van {}: {} \\n\".format(k, v)\n",
    "    print(msg)"
   ]
  },
  {
   "cell_type": "code",
   "execution_count": 5,
   "metadata": {},
   "outputs": [
    {
     "data": {
      "text/markdown": [
       "# 2. Instructies bij gebruik van de notebook\n",
       "\n",
       "Hieronder volgen onvolledige functies (e.g., `query_42(connection, col_names, super_voorbeeldparam = ['joske', 'jef'])`). Aan jullie om ze aan te vullen zodat de functie:  \n",
       "\n",
       "1. Een correcte query opstelt\n",
       "2. De query uitvoert op de database\n",
       "3. Het resultaat teruggeeft in een DataFrame.\n",
       "\n",
       "Voor stap  3 is de nodige functie al voorhanden, i.e.: `res_to_df(res, column_names)`.\n",
       "Voor stap 2 zal je nog 2 functies moeten implementeren (instructies volgen in het volgende deel). Gelukkig zal dit niet veel tijd vragen, jullie werk zal dus vooral bestaan uit stap 1, queries opstellen. Elke functie heeft minstens 2 inputargumenten:\n",
       "\n",
       "1. `connection`:   Een connection object \n",
       "2. `column_names`: De kolomnamen van het \"DataFrame\" (i.e. de tabel met de resultaten van je query)\n",
       "    \n",
       "Gevolgd door eventuele extra argumenten (e.g., `super_voorbeeldparam = ['joske','jef']`) die dienen om parameters in de query te injecteren. \n",
       "\n",
       "**Nogmaals: verander niets aan de namen van de functies, namen van de functie-parameters en de kolomnamen van de resulterende DataFrames. Wijzigingen hieraan leiden onvermijdelijk tot een score van 0 op die query.**\n",
       "\n",
       "In deze notebook kan je naar believen extra cellen toevoegen om je queries te testen, resultaten te inspecteren etc. Daar _dient_ deze notebook immers voor: deze notebook wordt **niet ingediend** als oplossing.\n",
       "\n",
       "We vragen jullie om de finale, ingevulde functies te kopiëren naar een extern python script dat _enkel en alleen_ deze ingevulde functies bevat. Cf. de laatste sectie van deze notebook voor instructies omtrent hoe in te dienen.\n",
       "\n",
       "## 2.1 Voorbeeld-query opstellen\n",
       "\n",
       "Om jullie al wat op weg te zetten volgt hier een voorbeeldje over hoe je te werk kan gaan.\n",
       "\n",
       "**Beschrijving**\n",
       "\n",
       "Het resultaat van deze functie is een DataFrame met teamnaam, jaar en aantal homeruns van teams die meer dan een gegeven aantal `homeruns` hadden in dat jaar.\n",
       "\n",
       "Sorteer aflopend op aantal homeruns.\n",
       "\n",
       "**Oplossing**\n",
       "\n"
      ],
      "text/plain": [
       "<IPython.core.display.Markdown object>"
      ]
     },
     "metadata": {},
     "output_type": "display_data"
    }
   ],
   "source": [
    "toon_uitleg(DOC_FPS.get(\"instructions\"), sectie=[1, 2])"
   ]
  },
  {
   "cell_type": "code",
   "execution_count": 6,
   "metadata": {},
   "outputs": [],
   "source": [
    "# Voorbeeld-query (oplossing)\n",
    "def query_voorbeeld(connection, column_names, homeruns=20):\n",
    "    # Bouw je query\n",
    "    query = \"\"\"\n",
    "    select    t.name, t.yearID, t.HR\n",
    "    from      Teams as t\n",
    "    where     t.HR > {}\n",
    "    order by  t.HR DESC;\n",
    "    \"\"\".format(\n",
    "        homeruns\n",
    "    )\n",
    "    # TIP: Met \"format\" krijg je parameters in de string (samen met `{}` in de string zelf)\n",
    "\n",
    "    # Stap 2 & 3\n",
    "    res = run_query(connection, query)  # Query uitvoeren\n",
    "    df = res_to_df(res, column_names)  # Query in DataFrame brengen\n",
    "\n",
    "    return df"
   ]
  },
  {
   "cell_type": "code",
   "execution_count": 7,
   "metadata": {},
   "outputs": [
    {
     "data": {
      "text/markdown": [
       "## 2.2 Voorbeeld-query runnen\n",
       "\n",
       "Om een query te runnen moeten we verbinding maken met de gegevensbank.\n",
       "Implementeer hiervoor 2 functies: verbind_met_gb() en run_query(). De lege functies staan hieronder. \n",
       "De implementatie van deze functies wordt niet nagekeken en telt niet mee voor het resultaat. Het is echter wel belangrijk dat ze werken, aangezien onze implementaties van de functies opgeroepen worden tijdens de evaluatie en het dus belangrijk is dat je je oplossingen in de notebook kunt testen (ipv in de phpmyadmin console zelf). \n",
       "\n",
       "1. Eerst maken we een verbindingsobject met de databank\n",
       "2. Vervolgens runnen we onze query, en inspecteren we het resultaat.\n",
       "\n",
       "\n",
       "TIP: mysql.connector is zeker de moeite waard om eens te bekijken.\n"
      ],
      "text/plain": [
       "<IPython.core.display.Markdown object>"
      ]
     },
     "metadata": {},
     "output_type": "display_data"
    }
   ],
   "source": [
    "toon_uitleg(DOC_FPS.get(\"instructions\"), sectie=3)"
   ]
  },
  {
   "cell_type": "code",
   "execution_count": 8,
   "metadata": {},
   "outputs": [],
   "source": [
    "def verbind_met_GB(username, hostname, gegevensbanknaam, password=None, poort=3306):\n",
    "    \"\"\"\n",
    "    Maak verbinding met een externe gegevensbank\n",
    "\n",
    "    Parameters\n",
    "    ----------\n",
    "\n",
    "    username:           str\n",
    "                        Username van de gebruiker\n",
    "    hostname            str\n",
    "                        Naam van de host. In het geval van lokale server 'localhost'\n",
    "    gegevensbanknaam    str\n",
    "                        Naam van de gegevensbank\n",
    "    password            str, None\n",
    "                        Wachtwoord kan al meegegeven worden. Indien niet, wordt\n",
    "                        een wachtwoordveldje gegenereerd waar de gebruiker het\n",
    "                        kan ingeven.\n",
    "    poort               int, defaults to 3306\n",
    "                        poort waarop MySQL luistert. Typisch is dat op poort 3306, \n",
    "                        maar variaties zijn mogelijk.\n",
    "    Returns\n",
    "    -------\n",
    "    connection          connection object\n",
    "                        Dit is het soort object dat wordt teruggeven door\n",
    "                        connect() methods van packages die voldoen aan de DB-API\n",
    "\n",
    "    \"\"\"\n",
    "    \n",
    "    #Implementeer hier de functie\n",
    "    connection = mysql.connector.connect(\n",
    "        user=username,\n",
    "        password=password,\n",
    "        database=gegevensbanknaam,\n",
    "        host=hostname,\n",
    "        port=poort\n",
    "    )\n",
    "    return connection\n",
    "\n",
    "def run_query(connection, query):\n",
    "    \"\"\"\n",
    "    Voer een query uit op een bestaande connection.\n",
    "\n",
    "    Geeft het resultaat van de query terug.\n",
    "\n",
    "    Parameters\n",
    "    ----------\n",
    "    connection      connection object\n",
    "                    Dit is het soort object dat wordt teruggeven door\n",
    "                    connect() methods van packages die voldoen aan de DB-API\n",
    "    query           str\n",
    "                    SQL-query geschreven als een gewone string\n",
    "\n",
    "    Returns\n",
    "    -------\n",
    "\n",
    "    \"\"\"\n",
    "    \n",
    "     #Implementeer hier de functie\n",
    "    cursor = connection.cursor()\n",
    "    cursor.execute(query)\n",
    "    result = cursor.fetchall()\n",
    "    \n",
    "    return result\n",
    "\n"
   ]
  },
  {
   "cell_type": "code",
   "execution_count": 9,
   "metadata": {
    "hidden": true
   },
   "outputs": [],
   "source": [
    "# Verbindingsobject aanmaken\n",
    "\n",
    "username = 'root'      # Vervang dit als je via een andere user queries stuurt\n",
    "hostname = 'localhost' # Als je een databank lokaal draait, is de hostname meestal gewoon \"localhost\"\n",
    "db = 'lahman2016'          # Naam van de gegevensbank op je XAMPP Mysql server\n",
    "\n",
    "# We verbinden met de gegevensbank, deze functie heeft als output een `connection-object`.\n",
    "c = verbind_met_GB(username, hostname, db, password='')"
   ]
  },
  {
   "cell_type": "code",
   "execution_count": 10,
   "metadata": {
    "hidden": true
   },
   "outputs": [
    {
     "data": {
      "text/html": [
       "<div>\n",
       "<style scoped>\n",
       "    .dataframe tbody tr th:only-of-type {\n",
       "        vertical-align: middle;\n",
       "    }\n",
       "\n",
       "    .dataframe tbody tr th {\n",
       "        vertical-align: top;\n",
       "    }\n",
       "\n",
       "    .dataframe thead th {\n",
       "        text-align: right;\n",
       "    }\n",
       "</style>\n",
       "<table border=\"1\" class=\"dataframe\">\n",
       "  <thead>\n",
       "    <tr style=\"text-align: right;\">\n",
       "      <th></th>\n",
       "      <th>name</th>\n",
       "      <th>yearID</th>\n",
       "      <th>HR</th>\n",
       "    </tr>\n",
       "  </thead>\n",
       "  <tbody>\n",
       "    <tr>\n",
       "      <th>2689</th>\n",
       "      <td>Cleveland Naps</td>\n",
       "      <td>1907</td>\n",
       "      <td>11</td>\n",
       "    </tr>\n",
       "    <tr>\n",
       "      <th>2690</th>\n",
       "      <td>St. Louis Browns</td>\n",
       "      <td>1884</td>\n",
       "      <td>11</td>\n",
       "    </tr>\n",
       "    <tr>\n",
       "      <th>2691</th>\n",
       "      <td>Detroit Tigers</td>\n",
       "      <td>1907</td>\n",
       "      <td>11</td>\n",
       "    </tr>\n",
       "    <tr>\n",
       "      <th>2692</th>\n",
       "      <td>Chicago White Sox</td>\n",
       "      <td>1905</td>\n",
       "      <td>11</td>\n",
       "    </tr>\n",
       "    <tr>\n",
       "      <th>2693</th>\n",
       "      <td>Philadelphia Phillies</td>\n",
       "      <td>1908</td>\n",
       "      <td>11</td>\n",
       "    </tr>\n",
       "  </tbody>\n",
       "</table>\n",
       "</div>"
      ],
      "text/plain": [
       "                       name  yearID  HR\n",
       "2689         Cleveland Naps    1907  11\n",
       "2690       St. Louis Browns    1884  11\n",
       "2691         Detroit Tigers    1907  11\n",
       "2692      Chicago White Sox    1905  11\n",
       "2693  Philadelphia Phillies    1908  11"
      ]
     },
     "execution_count": 10,
     "metadata": {},
     "output_type": "execute_result"
    }
   ],
   "source": [
    "# Voorbeeldquery runnen, resultaat ophalen en inspecteren.\n",
    "\n",
    "# De query-functie verwacht als tweede parameter de kolomnamen van het resultaat.\n",
    "kolomnamen_voorbeeldquery = [\"name\", \"yearID\", \"HR\"]\n",
    "\n",
    "# Query-functie uitvoeren, geeft resultaat van de query in een DataFrame\n",
    "df = query_voorbeeld(c, kolomnamen_voorbeeldquery, homeruns=10)   \n",
    "\n",
    "# Inspecteer laatste resultaten (laat. tail() weg om alles te zien)\n",
    "df.tail()"
   ]
  },
  {
   "cell_type": "code",
   "execution_count": 11,
   "metadata": {
    "hidden": true
   },
   "outputs": [
    {
     "data": {
      "text/html": [
       "<div>\n",
       "<style scoped>\n",
       "    .dataframe tbody tr th:only-of-type {\n",
       "        vertical-align: middle;\n",
       "    }\n",
       "\n",
       "    .dataframe tbody tr th {\n",
       "        vertical-align: top;\n",
       "    }\n",
       "\n",
       "    .dataframe thead th {\n",
       "        text-align: right;\n",
       "    }\n",
       "</style>\n",
       "<table border=\"1\" class=\"dataframe\">\n",
       "  <thead>\n",
       "    <tr style=\"text-align: right;\">\n",
       "      <th></th>\n",
       "      <th>name</th>\n",
       "      <th>yearID</th>\n",
       "      <th>HR</th>\n",
       "    </tr>\n",
       "  </thead>\n",
       "  <tbody>\n",
       "    <tr>\n",
       "      <th>2299</th>\n",
       "      <td>Boston Beaneaters</td>\n",
       "      <td>1890</td>\n",
       "      <td>31</td>\n",
       "    </tr>\n",
       "    <tr>\n",
       "      <th>2300</th>\n",
       "      <td>Chicago Pirates</td>\n",
       "      <td>1890</td>\n",
       "      <td>31</td>\n",
       "    </tr>\n",
       "    <tr>\n",
       "      <th>2301</th>\n",
       "      <td>New York Giants</td>\n",
       "      <td>1897</td>\n",
       "      <td>31</td>\n",
       "    </tr>\n",
       "    <tr>\n",
       "      <th>2302</th>\n",
       "      <td>Rochester Broncos</td>\n",
       "      <td>1890</td>\n",
       "      <td>31</td>\n",
       "    </tr>\n",
       "    <tr>\n",
       "      <th>2303</th>\n",
       "      <td>Detroit Wolverines</td>\n",
       "      <td>1884</td>\n",
       "      <td>31</td>\n",
       "    </tr>\n",
       "  </tbody>\n",
       "</table>\n",
       "</div>"
      ],
      "text/plain": [
       "                    name  yearID  HR\n",
       "2299   Boston Beaneaters    1890  31\n",
       "2300     Chicago Pirates    1890  31\n",
       "2301     New York Giants    1897  31\n",
       "2302   Rochester Broncos    1890  31\n",
       "2303  Detroit Wolverines    1884  31"
      ]
     },
     "execution_count": 11,
     "metadata": {},
     "output_type": "execute_result"
    }
   ],
   "source": [
    "# EXTRA: Query runnen met andere parameterwaarde\n",
    "df = query_voorbeeld(c, kolomnamen_voorbeeldquery, homeruns=30)\n",
    "df.tail()                                                "
   ]
  },
  {
   "cell_type": "markdown",
   "metadata": {},
   "source": [
    "## 3. Queries"
   ]
  },
  {
   "cell_type": "code",
   "execution_count": 12,
   "metadata": {},
   "outputs": [
    {
     "data": {
      "text/markdown": [
       "## 3.1 Query 01\n",
       "\n",
       "**Beschrijving**\n",
       "\n",
       "Geef voor alle spelers die voor jaar \"X\" zijn benoemd als all-star en groter zijn dan \"Y\": de achternaam, voornaam en grootte. Stel dat een speler meerdere keren tot all-star is benoemd, dan verwachten we deze informatie maar 1 keer. \n",
       "\n",
       "Sorteer alfabetisch op achternaam, voornaam en aflopend op grootte. \n",
       "\n"
      ],
      "text/plain": [
       "<IPython.core.display.Markdown object>"
      ]
     },
     "metadata": {},
     "output_type": "display_data"
    }
   ],
   "source": [
    "toon_uitleg(DOC_FPS.get(\"query_description\"), sectie=1)"
   ]
  },
  {
   "cell_type": "code",
   "execution_count": 13,
   "metadata": {},
   "outputs": [],
   "source": [
    "def query_01(connection, column_names, X=1980, Y=50):\n",
    "\n",
    "    # Bouw je query\n",
    "    query = \"\"\"\n",
    "    SELECT DISTINCT    \n",
    "        m.nameLast AS last_name, \n",
    "        m.nameFirst AS first_name,\n",
    "        m.height AS height\n",
    "    FROM    \n",
    "        master m\n",
    "        inner join\n",
    "        AllStarFull asf\n",
    "        ON m.playerID = asf.playerID\n",
    "    WHERE\n",
    "        m.height > {}\n",
    "        AND\n",
    "        asf.yearID < {}\n",
    "    ORDER BY\n",
    "        m.nameLast,\n",
    "        m.nameFirst,\n",
    "        m.height DESC\"\"\".format(Y, X)\n",
    "\n",
    "    # Stap 2 & 3\n",
    "    res = run_query(connection, query)  # Query uitvoeren\n",
    "    df = res_to_df(res, column_names)  # Query in DataFrame brengen\n",
    "\n",
    "    return df"
   ]
  },
  {
   "cell_type": "code",
   "execution_count": 14,
   "metadata": {},
   "outputs": [
    {
     "data": {
      "text/markdown": [
       "## 3.2 Query 02\n",
       "\n",
       "**Beschrijving**\n",
       "\n",
       "Geef voor alle spelers die in land \"X\" geboren zijn en die jonger dan \"Y\" waren toen ze stierven: de achternaam, de voornaam, de leeftijd en het land waarin ze gestorven zijn. \n",
       "\n",
       "Sorteer achtereenvolgens oplopend op leeftijd, alfabetisch op voornaam, alfabetisch op achternaam, alfabetisch op land. \n",
       "\n"
      ],
      "text/plain": [
       "<IPython.core.display.Markdown object>"
      ]
     },
     "metadata": {},
     "output_type": "display_data"
    }
   ],
   "source": [
    "toon_uitleg(DOC_FPS.get(\"query_description\"), sectie=2)"
   ]
  },
  {
   "cell_type": "code",
   "execution_count": 15,
   "metadata": {},
   "outputs": [],
   "source": [
    "def query_02(connection, column_names, X=\"'USA'\", Y=40):\n",
    "\n",
    "    # Bouw je query\n",
    "    query = \"\"\"\n",
    "    SELECT\n",
    "        dp.nameLast as last_name, \n",
    "        dp.nameFirst as first_name, \n",
    "        dp.deathYear - dp.birthYear as age, \n",
    "        dp.deathCountry as country_death\n",
    "    FROM\n",
    "        (SELECT *\n",
    "        FROM master m\n",
    "        WHERE m.deathCountry != \"\"\n",
    "        ) dp\n",
    "    WHERE\n",
    "        dp.birthCountry = {}\n",
    "        AND\n",
    "        dp.deathYear - dp.birthYear < {}\n",
    "    ORDER BY\n",
    "        age ASC,\n",
    "        dp.nameFirst,\n",
    "        dp.nameLast;\"\"\".format(X, Y)\n",
    "\n",
    "    # Stap 2 & 3\n",
    "    res = run_query(connection, query)  # Query uitvoeren\n",
    "    df = res_to_df(res, column_names)  # Query in DataFrame brengen\n",
    "\n",
    "    return df"
   ]
  },
  {
   "cell_type": "code",
   "execution_count": 16,
   "metadata": {},
   "outputs": [
    {
     "data": {
      "text/markdown": [
       "## 3.3 Query 03\n",
       "\n",
       "**Beschrijving**\n",
       "\n",
       "Maak een lijst met alle managers die tussen jaar \"X\" en \"Y\" (beiden inclusief) als \"Z\"<sup>e</sup> manager in het seizoen gewerkt hebben voor een team dat meer gewonnen is dan verloren, maar waar de manager in dat jaar met de ploeg meer heeft verloren dan gewonnen. \n",
       "\n",
       "Van deze managers willen we de achternaam, voornaam, geboortejaar, de teamnaam, het jaar waarin de manager voor het team werkte, het procentueel aantal gewonnen matchen van het team in dat jaar en het procentueel aantal verloren matchen van de manager met het team in dat jaar. \n",
       "\n",
       "Sorteer alfabetisch op achternaam, voornaam, aflopend op geboortejaar, alfabetisch op teamnaam en aflopend op beide procenten.\n",
       "\n",
       "\n"
      ],
      "text/plain": [
       "<IPython.core.display.Markdown object>"
      ]
     },
     "metadata": {},
     "output_type": "display_data"
    }
   ],
   "source": [
    "toon_uitleg(DOC_FPS.get(\"query_description\"), sectie=3)"
   ]
  },
  {
   "cell_type": "code",
   "execution_count": 17,
   "metadata": {},
   "outputs": [],
   "source": [
    "def query_03(connection, column_names, X=1940, Y=1980, Z=1):\n",
    "\n",
    "    # Bouw je query\n",
    "    query = \"\"\"\n",
    "    SELECT\n",
    "        mstr.nameLast as last_name,\n",
    "        mstr.nameFirst as firstName,\n",
    "        mstr.birthYear as year_of_birth,\n",
    "        jn.teamName as name_of_team,\n",
    "        jn.year as year,\n",
    "        jn.teamWins as teamWins,\n",
    "        jn.managerLosses as managerLosses\n",
    "    FROM\n",
    "        master mstr\n",
    "    INNER JOIN\n",
    "        (\n",
    "            SELECT\n",
    "                mng.playerID AS mngID,\n",
    "                t.name AS teamName,\n",
    "                t.yearID as year,\n",
    "                t.W / t.G AS teamWins,\n",
    "                mng.L / mng.G AS managerLosses\n",
    "            FROM \n",
    "                managers mng\n",
    "                INNER JOIN\n",
    "                teams t\n",
    "                ON\n",
    "                mng.teamID = t.teamID\n",
    "                AND\n",
    "                mng.yearID = t.yearID\n",
    "            WHERE\n",
    "                mng.inseason = {}\n",
    "                AND\n",
    "                mng.L - mng.W > 0\n",
    "                AND\n",
    "                t.W - t.L > 0\n",
    "        ) jn\n",
    "        ON mstr.playerID = jn.mngID\n",
    "    WHERE\n",
    "        jn.year >= {}\n",
    "        AND\n",
    "        jn.year <= {}\n",
    "    ORDER BY\n",
    "        mstr.nameLast,\n",
    "        mstr.nameFirst,\n",
    "        mstr.birthYear DESC,\n",
    "        jn.teamName,\n",
    "        jn.teamWins DESC,\n",
    "        jn.managerLosses DESC\"\"\".format(Z, X, Y)\n",
    "\n",
    "    # Stap 2 & 3\n",
    "    res = run_query(connection, query)  # Query uitvoeren\n",
    "    df = res_to_df(res, column_names)  # Query in DataFrame brengen\n",
    "\n",
    "    return df"
   ]
  },
  {
   "cell_type": "code",
   "execution_count": 18,
   "metadata": {},
   "outputs": [
    {
     "data": {
      "text/markdown": [
       "## 3.4 Query 04\n",
       "\n",
       "**Beschrijving**\n",
       "\n",
       "Maak een lijst met informatie over de Hall of Fame. \n",
       "We willen per jaar en per groepering (de groep die stemmen uit mocht brengen) het aantal spelers waarop gestemd is geweest en het gemiddelde aantal stemmen per speler voor de jaren en groeperingen waar er minstens op \"Y\" spelers gestemd is geweest. \n",
       "Voor deze lijst bekijken we echter enkel spelers die in hun carriere ook manager zijn geweest en geboren zijn na jaar \"X\". \n",
       "\n",
       "Sorteer aflopend op jaartal, alfabetisch op groepering, aflopend op aantal keer gestemd en aflopend op gemiddelde stemmen. \n",
       "\n",
       "\n"
      ],
      "text/plain": [
       "<IPython.core.display.Markdown object>"
      ]
     },
     "metadata": {},
     "output_type": "display_data"
    }
   ],
   "source": [
    "toon_uitleg(DOC_FPS.get(\"query_description\"), sectie=4)"
   ]
  },
  {
   "cell_type": "code",
   "execution_count": 19,
   "metadata": {},
   "outputs": [],
   "source": [
    "def query_04(connection, column_names, X=1940, Y=30):\n",
    "\n",
    "    # Bouw je query\n",
    "    query = \"\"\"\n",
    "    SELECT\n",
    "        hof.yearid as year,\n",
    "        hof.votedBy as \"group\",\n",
    "        COUNT(*) as vote_count,\n",
    "        AVG(hof.votes) as vote_mean\n",
    "    FROM\n",
    "        halloffame hof\n",
    "        inner JOIN\n",
    "        (\n",
    "            SELECT mstr.playerID as playerID\n",
    "            FROM master mstr\n",
    "            INNER JOIN\n",
    "            managers mngall\n",
    "            on mstr.playerID = mngall.playerID\n",
    "            WHERE\n",
    "            mstr.birthYear > {}\n",
    "        ) mng\n",
    "        on hof.playerID = mng.playerID\n",
    "    \n",
    "    GROUP BY\n",
    "        hof.yearid,\n",
    "        hof.votedBy\n",
    "    HAVING\n",
    "        COUNT(*) > {}\n",
    "    ORDER BY \n",
    "        `year` DESC,\n",
    "        'group',\n",
    "        'vote_count' DESC,\n",
    "        'vote_mean' DESC;\"\"\".format(X, Y)\n",
    "\n",
    "    # Stap 2 & 3\n",
    "    res = run_query(connection, query)  # Query uitvoeren\n",
    "    df = res_to_df(res, column_names)  # Query in DataFrame brengen\n",
    "\n",
    "    return df"
   ]
  },
  {
   "cell_type": "code",
   "execution_count": 37,
   "metadata": {
    "scrolled": true
   },
   "outputs": [
    {
     "data": {
      "text/markdown": [
       "## 3.5 Query 05\n",
       "\n",
       "**Beschrijving**\n",
       "\n",
       "Maak een lijst van alle spelers die voldoen aan deze drie voorwaarden:\n",
       "\n",
       "-De speler was voor jaar X al actief als pitcher,\n",
       "\n",
       "-De speler heeft tijdens zijn matches als pitcher in totaal meer gewonnen dan verloren \n",
       "\n",
       "-De speler had tijdens zijn matches als pitcher meer strikeouts dan hits.\n",
       "\n",
       "De lijst bevat de achternaam, de voornaam en het geboortejaar van deze spelers.\n",
       "\n",
       "Sorteer achtereenvolgens alfabetisch op achternaam en voornaam, dan oplopend op geboortejaar.\n",
       "\n",
       "\n"
      ],
      "text/plain": [
       "<IPython.core.display.Markdown object>"
      ]
     },
     "metadata": {},
     "output_type": "display_data"
    }
   ],
   "source": [
    "toon_uitleg(DOC_FPS.get(\"query_description\"), sectie=5)"
   ]
  },
  {
   "cell_type": "code",
   "execution_count": 20,
   "metadata": {},
   "outputs": [],
   "source": [
    "def query_05(connection, column_names, X=1960):\n",
    "\n",
    "    # Bouw je query\n",
    "    query = \"\"\"\n",
    "    SELECT\n",
    "        mstr.nameLast AS last_name,\n",
    "        mstr.nameFirst AS first_name,\n",
    "        mstr.birthYear AS year_of_birth\n",
    "    FROM\n",
    "        master mstr\n",
    "        INNER JOIN\n",
    "        (\n",
    "            SELECT\n",
    "                pAll.yearID as yearID,\n",
    "                pAll.playerID as playerID,\n",
    "                SUM(pALL.W) as wins,\n",
    "                SUM(pALL.L)as losses,\n",
    "                SUM(pALL.SO) as strikeouts,\n",
    "                SUM(pALL.H) as hits\n",
    "            FROM\n",
    "                pitching pAll\n",
    "            WHERE\n",
    "                pAll.yearID < {}\n",
    "            GROUP BY\n",
    "                pAll.playerID\n",
    "        ) p\n",
    "        ON mstr.playerID = p.playerID\n",
    "    WHERE\n",
    "        p.wins > p.losses\n",
    "        AND\n",
    "        p.strikeouts > p.hits\n",
    "    ORDER BY\n",
    "        'last_name',\n",
    "        'first_name',\n",
    "        'year_of_birth'\"\"\".format(X)\n",
    "\n",
    "    # Stap 2 & 3\n",
    "    res = run_query(connection, query)  # Query uitvoeren\n",
    "    df = res_to_df(res, column_names)  # Query in DataFrame brengen\n",
    "\n",
    "    return df"
   ]
  },
  {
   "cell_type": "code",
   "execution_count": 39,
   "metadata": {
    "scrolled": true
   },
   "outputs": [
    {
     "data": {
      "text/markdown": [
       "## 3.6 Query 06\n",
       "\n",
       "**Beschrijving**\n",
       "\n",
       "Maak een lijst met informatie over spelers die\n",
       "\n",
       "-geen fielder zijn geweest bij een team dat zijn home park in dezelfde stad had dan de geboortestad van de speler\n",
       "\n",
       "-naar school zijn gegaan in staat \"X\"\n",
       "\n",
       "Over deze spelers willen we graag weten wat hun achternaam en voornaam is en indien ze in de hall of fame hebben gestaan, in welk jaar dat was en hoeveel stemmen ze toen hebben gekregen.\n",
       "\n",
       "Sorteer alfabetisch op achternaam en voornaam, oplopend op jaar en aflopend op aantal stemmen\n",
       "\n",
       "\n"
      ],
      "text/plain": [
       "<IPython.core.display.Markdown object>"
      ]
     },
     "metadata": {},
     "output_type": "display_data"
    }
   ],
   "source": [
    "toon_uitleg(DOC_FPS.get(\"query_description\"), sectie=6)"
   ]
  },
  {
   "cell_type": "code",
   "execution_count": 40,
   "metadata": {},
   "outputs": [],
   "source": [
    "def query_06(connection, column_names, X=\"'TX'\"):\n",
    "    \n",
    "    # Bouw je query\n",
    "    query = \"\"\"\n",
    "    SELECT\n",
    "\tplayers.nameLast as last_name,\n",
    "    players.nameFirst as first_name,\n",
    "    hof.yearid as year,\n",
    "    hof.votes as votes\n",
    "FROM\n",
    "\t(\n",
    "    SELECT\n",
    "        vp.playerID,\n",
    "        vp.nameLast,\n",
    "        vp.nameFirst\n",
    "    FROM\n",
    "        (/*viable players that were not fielders in their home park*/\n",
    "            SELECT *\n",
    "            FROM\n",
    "                master m\n",
    "            WHERE m.playerID NOT IN\n",
    "                (\n",
    "                SELECT DISTINCT pp.playerID\n",
    "                    FROM\n",
    "                        (\n",
    "                        /*fielders with teams*/\n",
    "                        SELECT DISTINCT\n",
    "                            field.playerID as playerID,\n",
    "                            t.park as parkName\n",
    "                        FROM\n",
    "                            /*fielding field*/\n",
    "                            (\n",
    "                                SELECT DISTINCT\n",
    "                                    fld.playerID as playerID,\n",
    "                                    fld.teamID as teamID\n",
    "                                FROM\n",
    "                                    fielding fld\n",
    "                            ) field\n",
    "                            INNER JOIN\n",
    "                            teams t\n",
    "                            ON field.teamID = t.teamID\n",
    "                        ) ft\n",
    "                        INNER JOIN\n",
    "                        (\n",
    "                        /*player with park in city*/\n",
    "                        SELECT\n",
    "                            mstr.playerID as playerID,\n",
    "                            prks.city as city,\n",
    "                            prks.`park.name` as parkName\n",
    "                        FROM\n",
    "                            master mstr\n",
    "                            INNER JOIN\n",
    "                            parks prks\n",
    "                            ON mstr.birthCity = prks.city\n",
    "                        ) pp\n",
    "                        ON\n",
    "                            ft.playerID = pp.playerID\n",
    "                            AND\n",
    "                            ft.parkName = pp.parkName\n",
    "        )) vp\n",
    "    WHERE vp.playerID IN\n",
    "        (SELECT DISTINCT\n",
    "                cp.playerID\n",
    "            FROM\n",
    "                schools s\n",
    "                INNER JOIN\n",
    "                collegeplaying cp\n",
    "                on s.schoolID = cp.schoolID\n",
    "            WHERE\n",
    "                s.state = {}\n",
    "        )\n",
    "    ) players\n",
    "    INNER JOIN\n",
    "    halloffame hof\n",
    "    ON players.playerID = hof.playerID\n",
    "ORDER BY\n",
    "\t'last_name',\n",
    "    'first_name',\n",
    "    'year' ASC,\n",
    "    'votes' DESC\"\"\".format(X)\n",
    "    # Stap 2 & 3\n",
    "    res = run_query(connection, query)  # Query uitvoeren\n",
    "    df = res_to_df(res, column_names)  # Query in DataFrame brengen\n",
    "\n",
    "    return df\n"
   ]
  },
  {
   "cell_type": "code",
   "execution_count": 41,
   "metadata": {
    "scrolled": true
   },
   "outputs": [
    {
     "data": {
      "text/markdown": [
       "## 3.7 Query 07\n",
       "\n",
       "**Beschrijving**\n",
       "\n",
       "We willen een lijst van alle spelers die:\n",
       "\n",
       "-naar dezelfde school zijn gegaan als de manager die het team van de speler leidde in het allereerste jaar dat de speler als pitcher speelde in zijn carrière. In dat jaar was pitcher ook de eerste positie (stint) van de speler. \n",
       "\n",
       "-\"X\" jaar nadat ze voor het laatst pitcher waren als batter gespeeld hebben (X kan ook negatief zijn)\n",
       "\n",
       "-in totaal meer dan \"Y\" assists hebben als fielder\n",
       "\n",
       "Van deze spelers willen we de achternaam, voornaam en het gemiddeld aantal errors per fielding game .\n",
       "\n",
       "Sorteer aflopend op de errors, en alfabetisch op achternaam en voornaam. \n",
       "\n",
       "\n"
      ],
      "text/plain": [
       "<IPython.core.display.Markdown object>"
      ]
     },
     "metadata": {},
     "output_type": "display_data"
    }
   ],
   "source": [
    "toon_uitleg(DOC_FPS.get(\"query_description\"), sectie=7)"
   ]
  },
  {
   "cell_type": "code",
   "execution_count": 42,
   "metadata": {},
   "outputs": [],
   "source": [
    "def query_07(connection, column_names,  X=2, Y=500):\n",
    "\n",
    "    # Bouw je query\n",
    "    query = \"\"\"\n",
    "    maak hier je query\"\"\"\n",
    "\n",
    "    # Stap 2 & 3\n",
    "    res = run_query(connection, query)  # Query uitvoeren\n",
    "    df = res_to_df(res, column_names)  # Query in DataFrame brengen\n",
    "\n",
    "    return df\n"
   ]
  },
  {
   "cell_type": "code",
   "execution_count": 43,
   "metadata": {},
   "outputs": [
    {
     "data": {
      "text/markdown": [
       "## 3.8 Query 08\n",
       "\n",
       "**Beschrijving**\n",
       "\n",
       "Maak een nieuwe tabel aan met de naam lahman2016.\"voornaam_achternaam\" met daarin per speler:\n",
       "\n",
       "-De voornaam en achternaam met kolomnamen(last_name, first_name)\n",
       "\n",
       "-het aantal jaren waarin ze een award gewonnen hebben met kolomnaam (ycount)\n",
       "\n",
       "We maken deze tabel enkel voor spelers die minder dan 20 jaar na het winnen van de laatste award als speler een award kregen als manager. \n",
       "\n",
       "Bouw daarna een tweede query die alle resultaten van deze nieuwe tabel teruggeeft gesorteerd op achternaam, voornaam en oplopende ycount.\n",
       "\n",
       "**Belangrijk**\n",
       "\n",
       "-Zorg ervoor dat als deze query meerdere keren gerund wordt, de tabel telkens opnieuw wordt aangemaakt (met dezelfde naam weliswaar) (CREATE OR REPLACE).  \n",
       "\n",
       "-zorg er hier zeker voor dat lahman2016 ook de naam is van je geïmporteerde database, anders ga je de tabel niet makkelijk terugvinden. \n",
       "\n",
       "\n",
       "\n"
      ],
      "text/plain": [
       "<IPython.core.display.Markdown object>"
      ]
     },
     "metadata": {},
     "output_type": "display_data"
    }
   ],
   "source": [
    "toon_uitleg(DOC_FPS.get(\"query_description\"), sectie=8)"
   ]
  },
  {
   "cell_type": "code",
   "execution_count": null,
   "metadata": {},
   "outputs": [],
   "source": [
    "def query_08(connection, column_names):\n",
    "\n",
    "    # Bouw je 1ste query die de tabel opbouwt\n",
    "    query = \"\"\"\n",
    "    maak hier je query\"\"\"\n",
    "\n",
    "    \n",
    "    try:\n",
    "        run_query(connection, query)  # Query uitvoeren\n",
    "    except Exception as e:\n",
    "        print(e)\n",
    "        \n",
    "        \n",
    "    #bouw je 2de query die alle resultaten uit die tabel opvraagt\n",
    "    query = \"\"\"\n",
    "    Maak hier je query\n",
    "    \"\"\"\n",
    "\n",
    "    # Stap 2 & 3\n",
    "    res = run_query(connection, query)  # Query uitvoeren\n",
    "    df = res_to_df(res, column_names)  # Query in DataFrame brengen\n",
    "\n",
    "    return df    \n",
    "      \n",
    "   \n"
   ]
  },
  {
   "cell_type": "code",
   "execution_count": null,
   "metadata": {},
   "outputs": [],
   "source": [
    "toon_uitleg(DOC_FPS.get(\"query_description\"), sectie=9)"
   ]
  },
  {
   "cell_type": "code",
   "execution_count": null,
   "metadata": {},
   "outputs": [],
   "source": [
    "def query_09(connection, column_names, X=4):\n",
    "\n",
    "     # Bouw je query die de gevraagde waardes verwijdert\n",
    "    query = \"\"\"\n",
    "    maak hier je query\"\"\"\n",
    "\n",
    "    # Stap 2 & 3\n",
    "    try:\n",
    "        run_query(connection, query)  # Query uitvoeren\n",
    "    except Exception as e:\n",
    "        print(e)\n",
    "   \n",
    "\n",
    "    # Bouw je query die alle resultaten uit de geupdate tabel opvraagt\n",
    "    query = \"\"\"\n",
    "    maak hier je query\"\"\"\n",
    "\n",
    "    # Stap 2 & 3\n",
    "    res = run_query(connection, query)  # Query uitvoeren\n",
    "    df = res_to_df(res, column_names)  # Query in DataFrame brengen\n",
    "\n",
    "    return df\n"
   ]
  },
  {
   "cell_type": "code",
   "execution_count": null,
   "metadata": {},
   "outputs": [],
   "source": [
    "toon_uitleg(DOC_FPS.get(\"query_description\"), sectie=10)"
   ]
  },
  {
   "cell_type": "code",
   "execution_count": null,
   "metadata": {},
   "outputs": [],
   "source": [
    "def query_10(connection, column_names,  X=1990, Y=91):\n",
    "\n",
    "    # Bouw je query\n",
    "    query = \"\"\"\n",
    "    maak hier je query\"\"\"\n",
    "\n",
    "    # Stap 2 & 3\n",
    "    res = run_query(connection, query)  # Query uitvoeren\n",
    "    df = res_to_df(res, column_names)  # Query in DataFrame brengen\n",
    "\n",
    "    return df\n"
   ]
  },
  {
   "cell_type": "markdown",
   "metadata": {},
   "source": [
    "### Indienen"
   ]
  },
  {
   "cell_type": "code",
   "execution_count": null,
   "metadata": {},
   "outputs": [],
   "source": [
    "toon_uitleg(DOC_FPS.get(\"submissions\"), sectie=1)"
   ]
  }
 ],
 "metadata": {
  "kernelspec": {
   "display_name": "Python 3 (ipykernel)",
   "language": "python",
   "name": "python3"
  },
  "language_info": {
   "codemirror_mode": {
    "name": "ipython",
    "version": 3
   },
   "file_extension": ".py",
   "mimetype": "text/x-python",
   "name": "python",
   "nbconvert_exporter": "python",
   "pygments_lexer": "ipython3",
   "version": "3.9.12"
  },
  "toc": {
   "nav_menu": {},
   "number_sections": true,
   "sideBar": true,
   "skip_h1_title": true,
   "toc_cell": false,
   "toc_position": {
    "height": "887px",
    "left": "0px",
    "right": "1705px",
    "top": "107px",
    "width": "215px"
   },
   "toc_section_display": true,
   "toc_window_display": true
  },
  "toc-autonumbering": false
 },
 "nbformat": 4,
 "nbformat_minor": 4
}
